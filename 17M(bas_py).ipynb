{
 "cells": [
  {
   "cell_type": "markdown",
   "id": "6e812ce5-25d0-4f64-90cb-3686aafb5325",
   "metadata": {},
   "source": [
    "# PYTHON BITWISE OPERATOR"
   ]
  },
  {
   "cell_type": "markdown",
   "id": "bd2de8e9-c19a-4ed4-a082-f8376bec498a",
   "metadata": {},
   "source": [
    "1) COMPLEMENT ~\n",
    "2) and &\n",
    "3) or |\n",
    "4) xor ^\n",
    "5) left shift <<\n",
    "6) right shift >>"
   ]
  },
  {
   "cell_type": "code",
   "execution_count": 3,
   "id": "b6c0ecff-182c-41e6-9dd9-897e4a30b38f",
   "metadata": {},
   "outputs": [
    {
     "name": "stdout",
     "output_type": "stream",
     "text": [
      "0b1100\n"
     ]
    }
   ],
   "source": [
    "print(bin(12))"
   ]
  },
  {
   "cell_type": "code",
   "execution_count": 5,
   "id": "b9be897f-4bb3-4d9f-8981-59af23fa3741",
   "metadata": {},
   "outputs": [
    {
     "name": "stdout",
     "output_type": "stream",
     "text": [
      "0b1101\n"
     ]
    }
   ],
   "source": [
    "print(bin(13))"
   ]
  },
  {
   "cell_type": "code",
   "execution_count": 7,
   "id": "0fe0c407-13d4-4b19-96a1-da9864922984",
   "metadata": {},
   "outputs": [
    {
     "data": {
      "text/plain": [
       "13"
      ]
     },
     "execution_count": 7,
     "metadata": {},
     "output_type": "execute_result"
    }
   ],
   "source": [
    "0b1101"
   ]
  },
  {
   "cell_type": "code",
   "execution_count": 9,
   "id": "7df94291-c139-415a-9183-7b2218809ce8",
   "metadata": {},
   "outputs": [
    {
     "data": {
      "text/plain": [
       "12"
      ]
     },
     "execution_count": 9,
     "metadata": {},
     "output_type": "execute_result"
    }
   ],
   "source": [
    "0b1100"
   ]
  },
  {
   "cell_type": "markdown",
   "id": "c2ca6ba6-82af-441a-8164-faf21c8b113c",
   "metadata": {},
   "source": [
    "# COMPLEMENT - it always give negative value to store in Ram."
   ]
  },
  {
   "cell_type": "code",
   "execution_count": 12,
   "id": "49b76bdd-a6b2-4e4d-a9ce-01c4cb37c8e9",
   "metadata": {},
   "outputs": [
    {
     "data": {
      "text/plain": [
       "-13"
      ]
     },
     "execution_count": 12,
     "metadata": {},
     "output_type": "execute_result"
    }
   ],
   "source": [
    "~12 # ~ (Tilde)"
   ]
  },
  {
   "cell_type": "code",
   "execution_count": 14,
   "id": "59798291-ae9a-4a02-af08-cd7e54660e52",
   "metadata": {},
   "outputs": [
    {
     "data": {
      "text/plain": [
       "-16"
      ]
     },
     "execution_count": 14,
     "metadata": {},
     "output_type": "execute_result"
    }
   ],
   "source": [
    "~15"
   ]
  },
  {
   "cell_type": "code",
   "execution_count": 16,
   "id": "fd2add01-1284-499b-8764-732e0d4a31cc",
   "metadata": {},
   "outputs": [
    {
     "data": {
      "text/plain": [
       "-68"
      ]
     },
     "execution_count": 16,
     "metadata": {},
     "output_type": "execute_result"
    }
   ],
   "source": [
    "~67"
   ]
  },
  {
   "cell_type": "code",
   "execution_count": 18,
   "id": "b6f32fad-5412-493b-80fe-d9c068c0aafa",
   "metadata": {},
   "outputs": [
    {
     "data": {
      "text/plain": [
       "-786"
      ]
     },
     "execution_count": 18,
     "metadata": {},
     "output_type": "execute_result"
    }
   ],
   "source": [
    "~785"
   ]
  },
  {
   "cell_type": "markdown",
   "id": "9cbf55b6-9be6-4b82-8687-52a9f7818408",
   "metadata": {},
   "source": [
    "# AND < OR"
   ]
  },
  {
   "cell_type": "code",
   "execution_count": 21,
   "id": "c6edaa9e-7fed-4e5c-ab75-dc50ef0e994d",
   "metadata": {},
   "outputs": [
    {
     "data": {
      "text/plain": [
       "12"
      ]
     },
     "execution_count": 21,
     "metadata": {},
     "output_type": "execute_result"
    }
   ],
   "source": [
    "12 & 13"
   ]
  },
  {
   "cell_type": "code",
   "execution_count": 23,
   "id": "bc606949-c48a-480e-b5c2-e08c8baebb16",
   "metadata": {},
   "outputs": [
    {
     "data": {
      "text/plain": [
       "0"
      ]
     },
     "execution_count": 23,
     "metadata": {},
     "output_type": "execute_result"
    }
   ],
   "source": [
    "1 & 0"
   ]
  },
  {
   "cell_type": "code",
   "execution_count": 25,
   "id": "5f883ac7-f8fa-4c81-8ffb-329d71fa5fe5",
   "metadata": {},
   "outputs": [
    {
     "data": {
      "text/plain": [
       "1"
      ]
     },
     "execution_count": 25,
     "metadata": {},
     "output_type": "execute_result"
    }
   ],
   "source": [
    "1 | 0"
   ]
  },
  {
   "cell_type": "code",
   "execution_count": 27,
   "id": "cf4ce68c-f453-4a83-8d07-b2adbe8769ac",
   "metadata": {},
   "outputs": [
    {
     "name": "stdout",
     "output_type": "stream",
     "text": [
      "0b100011\n",
      "0b101000\n"
     ]
    }
   ],
   "source": [
    "print(bin(35))\n",
    "print(bin(40))"
   ]
  },
  {
   "cell_type": "code",
   "execution_count": 29,
   "id": "d5b9454c-1180-4285-8354-a7db4816fdeb",
   "metadata": {},
   "outputs": [
    {
     "data": {
      "text/plain": [
       "32"
      ]
     },
     "execution_count": 29,
     "metadata": {},
     "output_type": "execute_result"
    }
   ],
   "source": [
    "35 & 40"
   ]
  },
  {
   "cell_type": "code",
   "execution_count": 31,
   "id": "3d2e438d-a03c-41de-a57c-e361e964c8f4",
   "metadata": {},
   "outputs": [
    {
     "data": {
      "text/plain": [
       "43"
      ]
     },
     "execution_count": 31,
     "metadata": {},
     "output_type": "execute_result"
    }
   ],
   "source": [
    "35|40"
   ]
  },
  {
   "cell_type": "markdown",
   "id": "cf0c0091-1b89-40e6-b4be-7136adfad907",
   "metadata": {},
   "source": [
    "# XOR"
   ]
  },
  {
   "cell_type": "code",
   "execution_count": 34,
   "id": "3622662d-1717-49ce-816d-b697113e514c",
   "metadata": {},
   "outputs": [
    {
     "name": "stdout",
     "output_type": "stream",
     "text": [
      "0b1100\n",
      "0b1101\n"
     ]
    }
   ],
   "source": [
    "print(bin(12))\n",
    "print(bin(13))"
   ]
  },
  {
   "cell_type": "code",
   "execution_count": 36,
   "id": "182d307e-e47f-4074-b8f1-1bdc3153ea1d",
   "metadata": {},
   "outputs": [
    {
     "data": {
      "text/plain": [
       "1"
      ]
     },
     "execution_count": 36,
     "metadata": {},
     "output_type": "execute_result"
    }
   ],
   "source": [
    "12 ^ 13"
   ]
  },
  {
   "cell_type": "code",
   "execution_count": 38,
   "id": "ae97a854-df02-4847-8c08-b583129ca04d",
   "metadata": {},
   "outputs": [
    {
     "data": {
      "text/plain": [
       "11"
      ]
     },
     "execution_count": 38,
     "metadata": {},
     "output_type": "execute_result"
    }
   ],
   "source": [
    "35^40"
   ]
  },
  {
   "cell_type": "code",
   "execution_count": 40,
   "id": "5e7161b5-5389-4cae-bfc4-8a813a63a86e",
   "metadata": {},
   "outputs": [
    {
     "name": "stdout",
     "output_type": "stream",
     "text": [
      "0b100011\n",
      "0b101000\n"
     ]
    }
   ],
   "source": [
    "print(bin(35))\n",
    "print(bin(40))"
   ]
  },
  {
   "cell_type": "markdown",
   "id": "eb391c53-c22c-41e6-b85b-8f9d22f46990",
   "metadata": {},
   "source": [
    "LEFT Shift << (we will gain the bits or zero from left side)."
   ]
  },
  {
   "cell_type": "code",
   "execution_count": 43,
   "id": "8ab53a03-09e1-4604-af6a-a8170cb729fa",
   "metadata": {},
   "outputs": [
    {
     "data": {
      "text/plain": [
       "20"
      ]
     },
     "execution_count": 43,
     "metadata": {},
     "output_type": "execute_result"
    }
   ],
   "source": [
    "10<<1# Left shift means we will gain the bits or zero from left side."
   ]
  },
  {
   "cell_type": "code",
   "execution_count": 45,
   "id": "221e3b77-6ea3-4700-a58a-57c7a85a0455",
   "metadata": {},
   "outputs": [
    {
     "data": {
      "text/plain": [
       "40"
      ]
     },
     "execution_count": 45,
     "metadata": {},
     "output_type": "execute_result"
    }
   ],
   "source": [
    "10<<2"
   ]
  },
  {
   "cell_type": "code",
   "execution_count": 47,
   "id": "e1654ea8-715d-4fb0-945e-0474b817a089",
   "metadata": {},
   "outputs": [
    {
     "data": {
      "text/plain": [
       "80"
      ]
     },
     "execution_count": 47,
     "metadata": {},
     "output_type": "execute_result"
    }
   ],
   "source": [
    "10<<3"
   ]
  },
  {
   "cell_type": "code",
   "execution_count": 49,
   "id": "35ce86c9-3f8f-4068-9d62-4754f4b4f7df",
   "metadata": {},
   "outputs": [
    {
     "data": {
      "text/plain": [
       "320"
      ]
     },
     "execution_count": 49,
     "metadata": {},
     "output_type": "execute_result"
    }
   ],
   "source": [
    "10<<5"
   ]
  },
  {
   "cell_type": "markdown",
   "id": "210659bf-b346-44f4-be25-52c0fee504e3",
   "metadata": {},
   "source": [
    " RIGHT SHIFT >> (right side we are loosing bits)"
   ]
  },
  {
   "cell_type": "code",
   "execution_count": 52,
   "id": "103da035-1155-4405-8848-9356719ed61e",
   "metadata": {},
   "outputs": [
    {
     "data": {
      "text/plain": [
       "'0b1010'"
      ]
     },
     "execution_count": 52,
     "metadata": {},
     "output_type": "execute_result"
    }
   ],
   "source": [
    "bin(10)"
   ]
  },
  {
   "cell_type": "code",
   "execution_count": 54,
   "id": "a431ae9c-a53e-4492-8e55-4675172e4fcc",
   "metadata": {},
   "outputs": [
    {
     "data": {
      "text/plain": [
       "5"
      ]
     },
     "execution_count": 54,
     "metadata": {},
     "output_type": "execute_result"
    }
   ],
   "source": [
    "10>>1"
   ]
  },
  {
   "cell_type": "code",
   "execution_count": 56,
   "id": "bc54dd6a-69e1-4294-8ed5-4ad6248ea3d9",
   "metadata": {},
   "outputs": [
    {
     "data": {
      "text/plain": [
       "2"
      ]
     },
     "execution_count": 56,
     "metadata": {},
     "output_type": "execute_result"
    }
   ],
   "source": [
    "10>>2"
   ]
  },
  {
   "cell_type": "code",
   "execution_count": 58,
   "id": "d8505338-9a56-44b1-b7d0-439d12d3815b",
   "metadata": {},
   "outputs": [
    {
     "data": {
      "text/plain": [
       "1"
      ]
     },
     "execution_count": 58,
     "metadata": {},
     "output_type": "execute_result"
    }
   ],
   "source": [
    "10>>3"
   ]
  },
  {
   "cell_type": "code",
   "execution_count": 60,
   "id": "df4da06b-ac8f-49a0-930f-83037565af76",
   "metadata": {},
   "outputs": [
    {
     "data": {
      "text/plain": [
       "0"
      ]
     },
     "execution_count": 60,
     "metadata": {},
     "output_type": "execute_result"
    }
   ],
   "source": [
    "10>>4"
   ]
  },
  {
   "cell_type": "code",
   "execution_count": 62,
   "id": "0a38b810-6a1d-4ec2-8f70-821ec7e8fbcd",
   "metadata": {},
   "outputs": [
    {
     "data": {
      "text/plain": [
       "'0b10100'"
      ]
     },
     "execution_count": 62,
     "metadata": {},
     "output_type": "execute_result"
    }
   ],
   "source": [
    "bin(20)"
   ]
  },
  {
   "cell_type": "code",
   "execution_count": 64,
   "id": "45b6f15f-1f35-47a4-9774-32938176177f",
   "metadata": {},
   "outputs": [
    {
     "data": {
      "text/plain": [
       "1"
      ]
     },
     "execution_count": 64,
     "metadata": {},
     "output_type": "execute_result"
    }
   ],
   "source": [
    "20>>4"
   ]
  },
  {
   "cell_type": "code",
   "execution_count": 66,
   "id": "85cca29e-4cc7-4508-af3a-31bcc643fda9",
   "metadata": {},
   "outputs": [
    {
     "data": {
      "text/plain": [
       "['False',\n",
       " 'None',\n",
       " 'True',\n",
       " 'and',\n",
       " 'as',\n",
       " 'assert',\n",
       " 'async',\n",
       " 'await',\n",
       " 'break',\n",
       " 'class',\n",
       " 'continue',\n",
       " 'def',\n",
       " 'del',\n",
       " 'elif',\n",
       " 'else',\n",
       " 'except',\n",
       " 'finally',\n",
       " 'for',\n",
       " 'from',\n",
       " 'global',\n",
       " 'if',\n",
       " 'import',\n",
       " 'in',\n",
       " 'is',\n",
       " 'lambda',\n",
       " 'nonlocal',\n",
       " 'not',\n",
       " 'or',\n",
       " 'pass',\n",
       " 'raise',\n",
       " 'return',\n",
       " 'try',\n",
       " 'while',\n",
       " 'with',\n",
       " 'yield']"
      ]
     },
     "execution_count": 66,
     "metadata": {},
     "output_type": "execute_result"
    }
   ],
   "source": [
    "import keyword\n",
    "keyword.kwlist"
   ]
  },
  {
   "cell_type": "code",
   "execution_count": 68,
   "id": "00e4495b-2288-43a1-b845-2dc987e64f0e",
   "metadata": {},
   "outputs": [],
   "source": [
    "import math # math is module"
   ]
  },
  {
   "cell_type": "code",
   "execution_count": 70,
   "id": "440984f2-c4ea-4689-99f4-2f3f2b7d7d30",
   "metadata": {},
   "outputs": [
    {
     "data": {
      "text/plain": [
       "5.0"
      ]
     },
     "execution_count": 70,
     "metadata": {},
     "output_type": "execute_result"
    }
   ],
   "source": [
    "x = math.sqrt(25)\n",
    "x"
   ]
  },
  {
   "cell_type": "code",
   "execution_count": 72,
   "id": "5d5c93ab-80e4-4728-b2aa-89f1b84e0039",
   "metadata": {},
   "outputs": [
    {
     "data": {
      "text/plain": [
       "3.872983346207417"
      ]
     },
     "execution_count": 72,
     "metadata": {},
     "output_type": "execute_result"
    }
   ],
   "source": [
    "x1 = math.sqrt(15)\n",
    "x1"
   ]
  },
  {
   "cell_type": "code",
   "execution_count": 74,
   "id": "6a3802dd-4bc0-4774-aab0-97bea7226084",
   "metadata": {},
   "outputs": [
    {
     "name": "stdout",
     "output_type": "stream",
     "text": [
      "3\n"
     ]
    }
   ],
   "source": [
    "print(math.floor(3.87)) #floor - minimum or least value"
   ]
  },
  {
   "cell_type": "code",
   "execution_count": 76,
   "id": "85663389-ca28-4a0c-8801-46d8b0a1811f",
   "metadata": {},
   "outputs": [
    {
     "name": "stdout",
     "output_type": "stream",
     "text": [
      "4\n"
     ]
    }
   ],
   "source": [
    "print(math.ceil(3.87)) #ceil - maximum or highest value"
   ]
  },
  {
   "cell_type": "code",
   "execution_count": 78,
   "id": "e4cc998b-d7e2-4632-a8a1-5489fc298e3e",
   "metadata": {},
   "outputs": [
    {
     "name": "stdout",
     "output_type": "stream",
     "text": [
      "5\n"
     ]
    }
   ],
   "source": [
    "print(math.floor(5.01)) #floor - minimum or least value\n"
   ]
  },
  {
   "cell_type": "code",
   "execution_count": 80,
   "id": "6f4c75f1-9124-4937-b5f6-7731903ba7d2",
   "metadata": {},
   "outputs": [
    {
     "name": "stdout",
     "output_type": "stream",
     "text": [
      "6\n"
     ]
    }
   ],
   "source": [
    "print(math.ceil(5.01)) #ceil - maximum or highest value\n"
   ]
  },
  {
   "cell_type": "code",
   "execution_count": 82,
   "id": "fe33d18a-76ad-4d51-ac31-b0e0cc033e22",
   "metadata": {},
   "outputs": [
    {
     "name": "stdout",
     "output_type": "stream",
     "text": [
      "9.0\n"
     ]
    }
   ],
   "source": [
    "print(math.pow(3,2))# 3**2"
   ]
  },
  {
   "cell_type": "code",
   "execution_count": 84,
   "id": "243f1e42-0127-4672-8e4f-0808b6d3c585",
   "metadata": {},
   "outputs": [
    {
     "name": "stdout",
     "output_type": "stream",
     "text": [
      "3.141592653589793\n"
     ]
    }
   ],
   "source": [
    "print(math.pi)\n"
   ]
  },
  {
   "cell_type": "code",
   "execution_count": 86,
   "id": "f193ee00-d633-4308-9fac-d6a1f21b78f4",
   "metadata": {},
   "outputs": [
    {
     "name": "stdout",
     "output_type": "stream",
     "text": [
      "2.718281828459045\n"
     ]
    }
   ],
   "source": [
    "print(math.e) #epsilon values"
   ]
  },
  {
   "cell_type": "code",
   "execution_count": 88,
   "id": "fff636d5-3f30-49d4-84d9-e972b3c93412",
   "metadata": {},
   "outputs": [
    {
     "ename": "NameError",
     "evalue": "name 'm' is not defined",
     "output_type": "error",
     "traceback": [
      "\u001b[1;31m---------------------------------------------------------------------------\u001b[0m",
      "\u001b[1;31mNameError\u001b[0m                                 Traceback (most recent call last)",
      "Cell \u001b[1;32mIn[88], line 1\u001b[0m\n\u001b[1;32m----> 1\u001b[0m m\u001b[38;5;241m.\u001b[39msqrt(\u001b[38;5;241m25\u001b[39m)\n",
      "\u001b[1;31mNameError\u001b[0m: name 'm' is not defined"
     ]
    }
   ],
   "source": [
    "m.sqrt(25)"
   ]
  },
  {
   "cell_type": "code",
   "execution_count": 120,
   "id": "8dd5a66b-fb2b-4b63-97b6-5b5416749bd4",
   "metadata": {},
   "outputs": [],
   "source": [
    "import math as m"
   ]
  },
  {
   "cell_type": "code",
   "execution_count": 122,
   "id": "9ba689d4-9ac9-4ed2-808d-79a475193815",
   "metadata": {},
   "outputs": [
    {
     "data": {
      "text/plain": [
       "5.0"
      ]
     },
     "execution_count": 122,
     "metadata": {},
     "output_type": "execute_result"
    }
   ],
   "source": [
    "m.sqrt(25)"
   ]
  },
  {
   "cell_type": "code",
   "execution_count": 124,
   "id": "a06da63f-dd7f-4182-afcb-09405dab2860",
   "metadata": {},
   "outputs": [
    {
     "name": "stdout",
     "output_type": "stream",
     "text": [
      "5.0\n",
      "8.0\n",
      "3\n",
      "4\n"
     ]
    }
   ],
   "source": [
    "print(m.sqrt(25))\n",
    "print(m.pow(2,3))\n",
    "print(m.floor(3.4))\n",
    "print(m.ceil(3.4))"
   ]
  },
  {
   "cell_type": "code",
   "execution_count": 116,
   "id": "e61a8f32-541b-4f95-8f6c-30af7e6b2f61",
   "metadata": {},
   "outputs": [],
   "source": [
    "from math import sqrt, pow ,floor,ceil"
   ]
  },
  {
   "cell_type": "code",
   "execution_count": 118,
   "id": "84dea34b-4d81-4b2e-9228-39a76c3db0f0",
   "metadata": {},
   "outputs": [
    {
     "name": "stdout",
     "output_type": "stream",
     "text": [
      "10.0\n",
      "8.0\n",
      "10\n",
      "12\n"
     ]
    }
   ],
   "source": [
    "print(sqrt(100))\n",
    "print(pow(2,3))\n",
    "print(floor(10.4))\n",
    "print(ceil(11.2))\n"
   ]
  },
  {
   "cell_type": "code",
   "execution_count": 98,
   "id": "f4fef50a-2ae6-4423-9ef5-b891c48a8b89",
   "metadata": {},
   "outputs": [
    {
     "name": "stdout",
     "output_type": "stream",
     "text": [
      "10.0\n",
      "8.0\n",
      "10\n",
      "12\n"
     ]
    }
   ],
   "source": [
    "from math import *\n",
    "    \n",
    "print(sqrt(100))\n",
    "print(pow(2,3))\n",
    "print(floor(10.4))\n",
    "print(ceil(11.2))\n"
   ]
  },
  {
   "cell_type": "code",
   "execution_count": 100,
   "id": "dac94624-413b-4ab0-8ffb-e0414a60dad1",
   "metadata": {},
   "outputs": [
    {
     "name": "stdout",
     "output_type": "stream",
     "text": [
      "8.0\n",
      "3.1622776601683795\n"
     ]
    }
   ],
   "source": [
    "from math import *\n",
    "print(pow(2,3))\n",
    "print(math.sqrt(10))"
   ]
  },
  {
   "cell_type": "code",
   "execution_count": 102,
   "id": "2ad6637d-59e1-4f74-a78c-f9b3cfe4c54b",
   "metadata": {},
   "outputs": [
    {
     "data": {
      "text/plain": [
       "8"
      ]
     },
     "execution_count": 102,
     "metadata": {},
     "output_type": "execute_result"
    }
   ],
   "source": [
    "round(pow(2,3))"
   ]
  },
  {
   "cell_type": "raw",
   "id": "85e88d0c-3a09-48fc-9851-9ee77eeadb71",
   "metadata": {},
   "source": [
    "# INPUT FUNCTION - bydefault understanding string"
   ]
  },
  {
   "cell_type": "code",
   "execution_count": 105,
   "id": "b63a7ee9-29e2-49ca-b822-45746e15dbc5",
   "metadata": {},
   "outputs": [
    {
     "name": "stdin",
     "output_type": "stream",
     "text": [
      " 4\n"
     ]
    },
    {
     "data": {
      "text/plain": [
       "'4'"
      ]
     },
     "execution_count": 105,
     "metadata": {},
     "output_type": "execute_result"
    }
   ],
   "source": [
    "x = input () \n",
    "x"
   ]
  },
  {
   "cell_type": "code",
   "execution_count": 128,
   "id": "3296f79a-9c25-4c76-ba96-10cc4b4da712",
   "metadata": {},
   "outputs": [
    {
     "name": "stdin",
     "output_type": "stream",
     "text": [
      " 4\n",
      " 5\n"
     ]
    },
    {
     "name": "stdout",
     "output_type": "stream",
     "text": [
      "45\n"
     ]
    }
   ],
   "source": [
    "x = input()\n",
    "y = input()\n",
    "z = x + y\n",
    "print(z) #console is waiting for user to enter input"
   ]
  },
  {
   "cell_type": "code",
   "execution_count": 130,
   "id": "7d1adeb9-e85d-4372-924f-c12948ef5616",
   "metadata": {},
   "outputs": [
    {
     "data": {
      "text/plain": [
       "str"
      ]
     },
     "execution_count": 130,
     "metadata": {},
     "output_type": "execute_result"
    }
   ],
   "source": [
    "type(z)"
   ]
  },
  {
   "cell_type": "code",
   "execution_count": 132,
   "id": "870faa3c-f7cc-4e6a-9df4-65e983b55dde",
   "metadata": {},
   "outputs": [
    {
     "data": {
      "text/plain": [
       "str"
      ]
     },
     "execution_count": 132,
     "metadata": {},
     "output_type": "execute_result"
    }
   ],
   "source": [
    "type(x)\n"
   ]
  },
  {
   "cell_type": "code",
   "execution_count": 134,
   "id": "6994c561-a2b3-4803-824f-632bc8c1e1df",
   "metadata": {},
   "outputs": [
    {
     "data": {
      "text/plain": [
       "str"
      ]
     },
     "execution_count": 134,
     "metadata": {},
     "output_type": "execute_result"
    }
   ],
   "source": [
    "type(y)"
   ]
  },
  {
   "cell_type": "code",
   "execution_count": 146,
   "id": "acbcb56f-26e8-4f60-bc0a-e8f6a23b057a",
   "metadata": {},
   "outputs": [
    {
     "name": "stdin",
     "output_type": "stream",
     "text": [
      "enter 1st num: 20\n",
      "enter 2nd num: 30\n"
     ]
    },
    {
     "name": "stdout",
     "output_type": "stream",
     "text": [
      "50\n"
     ]
    }
   ],
   "source": [
    "x1 = input(\"enter 1st num:\")\n",
    "a1 = int(x1)\n",
    "y1 = input(\"enter 2nd num:\")\n",
    "b1 = int(y1)\n",
    "z1 = a1 + b1\n",
    "print(z1)\n",
    "           "
   ]
  },
  {
   "cell_type": "code",
   "execution_count": 150,
   "id": "819eddcd-0aa8-447a-9cd8-915819bb9b68",
   "metadata": {},
   "outputs": [
    {
     "name": "stdin",
     "output_type": "stream",
     "text": [
      "enter the 1st num: 40\n",
      "enter the 2nd num: 50\n"
     ]
    },
    {
     "data": {
      "text/plain": [
       "90"
      ]
     },
     "execution_count": 150,
     "metadata": {},
     "output_type": "execute_result"
    }
   ],
   "source": [
    "x2 = int (input(\"enter the 1st num:\"))\n",
    "y2 = int (input(\"enter the 2nd num:\"))\n",
    "z2 =x2 + y2\n",
    "z2\n"
   ]
  },
  {
   "cell_type": "code",
   "execution_count": 152,
   "id": "e88b6d57-815e-4e16-be81-7320bfd3dfd4",
   "metadata": {},
   "outputs": [
    {
     "name": "stdin",
     "output_type": "stream",
     "text": [
      "enter the string: Hello\n"
     ]
    },
    {
     "name": "stdout",
     "output_type": "stream",
     "text": [
      "Hello\n"
     ]
    }
   ],
   "source": [
    "str = input(\"enter the string:\")\n",
    "print(str)"
   ]
  },
  {
   "cell_type": "code",
   "execution_count": 154,
   "id": "76aab4b8-fe58-4304-bdb0-7c8c10a59267",
   "metadata": {},
   "outputs": [
    {
     "name": "stdout",
     "output_type": "stream",
     "text": [
      "H\n"
     ]
    }
   ],
   "source": [
    "print(str[0])"
   ]
  },
  {
   "cell_type": "code",
   "execution_count": 156,
   "id": "8ff666da-2aed-44a4-bc99-11fcb1267af0",
   "metadata": {},
   "outputs": [
    {
     "name": "stdout",
     "output_type": "stream",
     "text": [
      "e\n"
     ]
    }
   ],
   "source": [
    "print(str[1])"
   ]
  },
  {
   "cell_type": "code",
   "execution_count": 158,
   "id": "437612d9-b862-4e19-8bc6-266eed75b0f1",
   "metadata": {},
   "outputs": [
    {
     "name": "stdout",
     "output_type": "stream",
     "text": [
      "l\n"
     ]
    }
   ],
   "source": [
    "print(str[3])"
   ]
  },
  {
   "cell_type": "code",
   "execution_count": 160,
   "id": "6baddc21-1e60-46bf-a66d-d8154f25e31e",
   "metadata": {},
   "outputs": [
    {
     "name": "stdout",
     "output_type": "stream",
     "text": [
      "Hel\n"
     ]
    }
   ],
   "source": [
    "print(str[:3])"
   ]
  },
  {
   "cell_type": "code",
   "execution_count": 166,
   "id": "601239a3-b311-4d2f-8519-19f4d7fc75d1",
   "metadata": {},
   "outputs": [
    {
     "name": "stdout",
     "output_type": "stream",
     "text": [
      "o\n"
     ]
    }
   ],
   "source": [
    "print(str[-1])"
   ]
  },
  {
   "cell_type": "code",
   "execution_count": 168,
   "id": "bb1e1e04-6588-496c-bc89-488e4341a094",
   "metadata": {},
   "outputs": [
    {
     "name": "stdout",
     "output_type": "stream",
     "text": [
      "Hlo\n"
     ]
    }
   ],
   "source": [
    "print(str[:5:2])"
   ]
  },
  {
   "cell_type": "code",
   "execution_count": 174,
   "id": "17b04342-c3b6-4eb5-8b58-5cf3f88e8679",
   "metadata": {},
   "outputs": [
    {
     "data": {
      "text/plain": [
       "'Hello'"
      ]
     },
     "execution_count": 174,
     "metadata": {},
     "output_type": "execute_result"
    }
   ],
   "source": [
    "str"
   ]
  },
  {
   "cell_type": "code",
   "execution_count": 178,
   "id": "7d95736d-7ce4-49ef-acc7-a05c64b004b9",
   "metadata": {},
   "outputs": [
    {
     "name": "stdout",
     "output_type": "stream",
     "text": [
      "oll\n"
     ]
    }
   ],
   "source": [
    "print(str[4:1:-1])"
   ]
  },
  {
   "cell_type": "code",
   "execution_count": 180,
   "id": "7fce5349-95ad-4cfc-b934-0ab1342debd8",
   "metadata": {},
   "outputs": [
    {
     "name": "stdout",
     "output_type": "stream",
     "text": [
      "olleH\n"
     ]
    }
   ],
   "source": [
    "print(str[::-1])"
   ]
  },
  {
   "cell_type": "code",
   "execution_count": 182,
   "id": "72ec1b8f-4516-4c2a-91ce-c3d5f4d30e55",
   "metadata": {},
   "outputs": [
    {
     "name": "stdout",
     "output_type": "stream",
     "text": [
      "Hl\n"
     ]
    }
   ],
   "source": [
    "print(str[0:-1:2])"
   ]
  },
  {
   "cell_type": "code",
   "execution_count": 194,
   "id": "c8bd3344-7630-4ce6-b6fa-59ee980999a8",
   "metadata": {},
   "outputs": [
    {
     "data": {
      "text/plain": [
       "'Hello'"
      ]
     },
     "execution_count": 194,
     "metadata": {},
     "output_type": "execute_result"
    }
   ],
   "source": [
    "str"
   ]
  },
  {
   "cell_type": "code",
   "execution_count": 188,
   "id": "2971c36b-9a8d-4a45-abdc-27f9171229c3",
   "metadata": {},
   "outputs": [
    {
     "name": "stdout",
     "output_type": "stream",
     "text": [
      "\n"
     ]
    }
   ],
   "source": [
    "print(str[-1:0:2])#empty "
   ]
  },
  {
   "cell_type": "code",
   "execution_count": 196,
   "id": "43044bbf-cae5-460a-95a2-d3b6419f24cd",
   "metadata": {},
   "outputs": [
    {
     "name": "stdout",
     "output_type": "stream",
     "text": [
      "ol\n"
     ]
    }
   ],
   "source": [
    "print(str[-1:0:-2])\n"
   ]
  },
  {
   "cell_type": "code",
   "execution_count": 200,
   "id": "fc31f67b-16bd-4fc1-bae3-a5aaee25303d",
   "metadata": {},
   "outputs": [
    {
     "name": "stdin",
     "output_type": "stream",
     "text": [
      "enter a string: sk\n"
     ]
    },
    {
     "name": "stdout",
     "output_type": "stream",
     "text": [
      "s\n"
     ]
    }
   ],
   "source": [
    "str = input(\"enter a string:\")[0]\n",
    "print(str)"
   ]
  },
  {
   "cell_type": "code",
   "execution_count": 204,
   "id": "2d36253d-e648-4e02-aa01-13cbef030677",
   "metadata": {},
   "outputs": [
    {
     "name": "stdin",
     "output_type": "stream",
     "text": [
      "enter a string: SK AFTAB\n"
     ]
    },
    {
     "data": {
      "text/plain": [
       "' '"
      ]
     },
     "execution_count": 204,
     "metadata": {},
     "output_type": "execute_result"
    }
   ],
   "source": [
    "str = input(\"enter a string:\")[2]\n",
    "str"
   ]
  },
  {
   "cell_type": "code",
   "execution_count": 208,
   "id": "fd70c907-019a-427c-b1bf-dded2a43e151",
   "metadata": {},
   "outputs": [
    {
     "name": "stdin",
     "output_type": "stream",
     "text": [
      "enter a string: 2+3\n"
     ]
    },
    {
     "name": "stdout",
     "output_type": "stream",
     "text": [
      "<class 'str'>\n"
     ]
    }
   ],
   "source": [
    "str = input(\"enter a string:\")\n",
    "str\n",
    "print(type(str))"
   ]
  },
  {
   "cell_type": "markdown",
   "id": "43109f9b-b827-4b10-acd0-31e476953acd",
   "metadata": {},
   "source": [
    "# EVAL IN INPUT FUN()"
   ]
  },
  {
   "cell_type": "code",
   "execution_count": 238,
   "id": "1d73047f-e1d8-4465-a4b4-d79e49bd4cdf",
   "metadata": {},
   "outputs": [
    {
     "name": "stdin",
     "output_type": "stream",
     "text": [
      "enter a string: 5%2\n"
     ]
    },
    {
     "name": "stdout",
     "output_type": "stream",
     "text": [
      "1\n",
      "<class 'int'>\n"
     ]
    }
   ],
   "source": [
    "str = eval( input(\"enter a string:\"))\n",
    "print(str)\n",
    "print(type(str))\n"
   ]
  },
  {
   "cell_type": "code",
   "execution_count": 240,
   "id": "56b110dd-290f-40d6-8a7b-33b5f12d74b2",
   "metadata": {},
   "outputs": [
    {
     "name": "stdin",
     "output_type": "stream",
     "text": [
      "enter a string: 20+30\n"
     ]
    },
    {
     "name": "stdout",
     "output_type": "stream",
     "text": [
      "50\n",
      "<class 'int'>\n"
     ]
    }
   ],
   "source": [
    "str = eval( input(\"enter a string:\"))\n",
    "print(str)\n",
    "print(type(str))\n"
   ]
  },
  {
   "cell_type": "code",
   "execution_count": 242,
   "id": "63f8ed01-0a30-4940-beec-b4815c2e2ddd",
   "metadata": {},
   "outputs": [
    {
     "name": "stdin",
     "output_type": "stream",
     "text": [
      "enter a string: 20*2\n"
     ]
    },
    {
     "name": "stdout",
     "output_type": "stream",
     "text": [
      "40\n",
      "<class 'int'>\n"
     ]
    }
   ],
   "source": [
    "str = eval( input(\"enter a string:\"))\n",
    "print(str)\n",
    "print(type(str))\n"
   ]
  },
  {
   "cell_type": "code",
   "execution_count": 244,
   "id": "aa93b39e-fa2a-4ebb-b557-ea5e2dca7d8a",
   "metadata": {},
   "outputs": [
    {
     "name": "stdin",
     "output_type": "stream",
     "text": [
      "enter a string: 40/2\n"
     ]
    },
    {
     "name": "stdout",
     "output_type": "stream",
     "text": [
      "20.0\n",
      "<class 'float'>\n"
     ]
    }
   ],
   "source": [
    "str = eval( input(\"enter a string:\"))\n",
    "print(str)\n",
    "print(type(str))\n"
   ]
  },
  {
   "cell_type": "code",
   "execution_count": 246,
   "id": "a787b0fe-31cc-4358-9b55-9cea07874029",
   "metadata": {},
   "outputs": [
    {
     "name": "stdin",
     "output_type": "stream",
     "text": [
      "enter a string: 40//2\n"
     ]
    },
    {
     "name": "stdout",
     "output_type": "stream",
     "text": [
      "20\n",
      "<class 'int'>\n"
     ]
    }
   ],
   "source": [
    "str = eval( input(\"enter a string:\"))\n",
    "print(str)\n",
    "print(type(str))\n"
   ]
  },
  {
   "cell_type": "code",
   "execution_count": 248,
   "id": "a4ce1b3a-a781-451b-a25a-6981002db6e3",
   "metadata": {},
   "outputs": [
    {
     "name": "stdin",
     "output_type": "stream",
     "text": [
      "enter a string: 4**2\n"
     ]
    },
    {
     "name": "stdout",
     "output_type": "stream",
     "text": [
      "16\n",
      "<class 'int'>\n"
     ]
    }
   ],
   "source": [
    "str = eval( input(\"enter a string:\"))\n",
    "print(str)\n",
    "print(type(str))\n"
   ]
  },
  {
   "cell_type": "code",
   "execution_count": 252,
   "id": "b5413cf3-73f2-42a1-bf93-d21300d9b7af",
   "metadata": {},
   "outputs": [
    {
     "name": "stdin",
     "output_type": "stream",
     "text": [
      "enter a string: (23+20)*2\n"
     ]
    },
    {
     "name": "stdout",
     "output_type": "stream",
     "text": [
      "86\n",
      "<class 'int'>\n"
     ]
    }
   ],
   "source": [
    "str = eval( input(\"enter a string:\"))\n",
    "print(str)\n",
    "print(type(str))\n"
   ]
  },
  {
   "cell_type": "code",
   "execution_count": 254,
   "id": "7b6f1f7f-eb98-46fc-80ca-6259db576ef9",
   "metadata": {},
   "outputs": [
    {
     "name": "stdin",
     "output_type": "stream",
     "text": [
      "enter a string: 100-56\n"
     ]
    },
    {
     "name": "stdout",
     "output_type": "stream",
     "text": [
      "44\n",
      "<class 'int'>\n"
     ]
    }
   ],
   "source": [
    "str = eval( input(\"enter a string:\"))\n",
    "print(str)\n",
    "print(type(str))\n"
   ]
  },
  {
   "cell_type": "code",
   "execution_count": null,
   "id": "5fe6892c-9a9d-45f9-b1c0-53df82057354",
   "metadata": {},
   "outputs": [],
   "source": []
  }
 ],
 "metadata": {
  "kernelspec": {
   "display_name": "Python [conda env:base] *",
   "language": "python",
   "name": "conda-base-py"
  },
  "language_info": {
   "codemirror_mode": {
    "name": "ipython",
    "version": 3
   },
   "file_extension": ".py",
   "mimetype": "text/x-python",
   "name": "python",
   "nbconvert_exporter": "python",
   "pygments_lexer": "ipython3",
   "version": "3.12.7"
  }
 },
 "nbformat": 4,
 "nbformat_minor": 5
}
